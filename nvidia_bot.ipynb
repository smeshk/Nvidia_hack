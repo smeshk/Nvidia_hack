{
  "nbformat": 4,
  "nbformat_minor": 0,
  "metadata": {
    "colab": {
      "name": "nvidia.ipynb",
      "provenance": [],
      "collapsed_sections": []
    },
    "kernelspec": {
      "name": "python3",
      "display_name": "Python 3"
    }
  },
  "cells": [
    {
      "cell_type": "code",
      "metadata": {
        "id": "4X9EVQXK0wlZ"
      },
      "source": [
        "import pandas as pd"
      ],
      "execution_count": 4,
      "outputs": []
    },
    {
      "cell_type": "code",
      "metadata": {
        "id": "I6IuF9H91FQZ"
      },
      "source": [
        "employees = pd.read_csv(r'/content/Employees.csv', header = None, index_col= None)"
      ],
      "execution_count": 5,
      "outputs": []
    },
    {
      "cell_type": "code",
      "metadata": {
        "id": "QIZWvyCwyYf4",
        "outputId": "1db336b8-fd68-4e43-b2ec-77dc46f7bc7a",
        "colab": {
          "base_uri": "https://localhost:8080/",
          "height": 309
        }
      },
      "source": [
        "!pip3 install PyTelegramBotAPI==2.2.3"
      ],
      "execution_count": 2,
      "outputs": [
        {
          "output_type": "stream",
          "text": [
            "Collecting PyTelegramBotAPI==2.2.3\n",
            "\u001b[?25l  Downloading https://files.pythonhosted.org/packages/42/b2/3d02176822be09a7eae8081a16b1e28b13b63c8b04796ebedbd70b834e47/pyTelegramBotAPI-2.2.3.tar.gz (41kB)\n",
            "\r\u001b[K     |████████                        | 10kB 16.1MB/s eta 0:00:01\r\u001b[K     |████████████████                | 20kB 6.5MB/s eta 0:00:01\r\u001b[K     |████████████████████████        | 30kB 8.3MB/s eta 0:00:01\r\u001b[K     |███████████████████████████████▉| 40kB 6.0MB/s eta 0:00:01\r\u001b[K     |████████████████████████████████| 51kB 3.5MB/s \n",
            "\u001b[?25hRequirement already satisfied: requests in /usr/local/lib/python3.6/dist-packages (from PyTelegramBotAPI==2.2.3) (2.23.0)\n",
            "Requirement already satisfied: six in /usr/local/lib/python3.6/dist-packages (from PyTelegramBotAPI==2.2.3) (1.15.0)\n",
            "Requirement already satisfied: urllib3!=1.25.0,!=1.25.1,<1.26,>=1.21.1 in /usr/local/lib/python3.6/dist-packages (from requests->PyTelegramBotAPI==2.2.3) (1.24.3)\n",
            "Requirement already satisfied: certifi>=2017.4.17 in /usr/local/lib/python3.6/dist-packages (from requests->PyTelegramBotAPI==2.2.3) (2020.6.20)\n",
            "Requirement already satisfied: chardet<4,>=3.0.2 in /usr/local/lib/python3.6/dist-packages (from requests->PyTelegramBotAPI==2.2.3) (3.0.4)\n",
            "Requirement already satisfied: idna<3,>=2.5 in /usr/local/lib/python3.6/dist-packages (from requests->PyTelegramBotAPI==2.2.3) (2.10)\n",
            "Building wheels for collected packages: PyTelegramBotAPI\n",
            "  Building wheel for PyTelegramBotAPI (setup.py) ... \u001b[?25l\u001b[?25hdone\n",
            "  Created wheel for PyTelegramBotAPI: filename=pyTelegramBotAPI-2.2.3-cp36-none-any.whl size=30453 sha256=8f4937aad99a15fa7ac2b27ba50e4fc22cd362db5ee9b777656868ca0555f2e0\n",
            "  Stored in directory: /root/.cache/pip/wheels/e2/7b/c4/e01ad074d0d5d0771b105eb5952a23d2fb69401507eaadca22\n",
            "Successfully built PyTelegramBotAPI\n",
            "Installing collected packages: PyTelegramBotAPI\n",
            "Successfully installed PyTelegramBotAPI-2.2.3\n"
          ],
          "name": "stdout"
        }
      ]
    },
    {
      "cell_type": "code",
      "metadata": {
        "id": "2UZ906agqNhV"
      },
      "source": [
        "import telebot\n",
        "bot = telebot.TeleBot('1339968249:AAE9Zs6qDzdNiEKpclUmnzfY-NpPusdortc')\n",
        "keyboard1 = telebot.types.ReplyKeyboardMarkup()\n",
        "keyboard1.row('Проекты', 'Поиск кадров','Добавить сотрудника', 'Идея!' )\n",
        "\n",
        "first_projects = list(employees[4].unique())[:7] +['Дальше']\n",
        "second_projects = list(employees[4].unique())[7:] +['Предыдущие']\n",
        "\n",
        "@bot.message_handler(commands=['start'])\n",
        "def start_message(message):\n",
        "    bot.send_message(message.chat.id, 'Вас приветствует поисковый бот. Укажите, что бы вы хотели найти:', reply_markup=keyboard1)\n",
        "\n",
        "@bot.message_handler(content_types=['text'])\n",
        "def send_text(message):\n",
        "    employees = pd.read_csv(r'/content/Employees.csv', header = None, index_col= None)\n",
        "    first_projects = list(employees[4].unique())[:7] +['Дальше']\n",
        "    second_projects = list(employees[4].unique())[7:] +['Предыдущие']\n",
        "    keyboard2 = telebot.types.ReplyKeyboardMarkup()\n",
        "    keyboard2.row(*first_projects)\n",
        "\n",
        "    keyboard3 = telebot.types.ReplyKeyboardMarkup()\n",
        "    keyboard3.row(*second_projects)\n",
        "    if message.text.lower() == 'проекты':\n",
        "        bot.send_message(message.chat.id, 'Вот список проектов, кликнете на нужный, чтобы увидеть список участников:', reply_markup=keyboard2)\n",
        "    elif message.text.lower() == 'идея!':\n",
        "        bot.send_message(message.chat.id, 'Великолепно, поделитесь своими идеями на канале компании с удобным сервисом обсуждений! \\n https://t.me/nevidia_live', reply_markup=keyboard2)\n",
        "    elif message.text.lower() == 'дальше':\n",
        "        bot.send_message(message.chat.id, 'Еще проекты:', reply_markup=keyboard3)\n",
        "    elif message.text.lower() == 'предыдущие':\n",
        "        bot.send_message(message.chat.id, 'Проекты:', reply_markup=keyboard2)\n",
        "    elif message.text in list(employees[4].unique()):\n",
        "        project_name = message.text\n",
        "        generated_message = ''\n",
        "        for i in employees[1][employees[4] == project_name].index:\n",
        "          generated_message = generated_message+ 'The '+ employees[employees[4] == project_name][5][i] + ' is: '+ employees[employees[4] == project_name][1][i] + '\\n'\n",
        "        bot.send_message(message.chat.id, generated_message)\n",
        "        bot.send_message(message.chat.id, \"Чтобы посмотреть текущее состояние проекта и присоединиться перейдите на Доску Проекта \\n https://miro.com/app/board/o9J_klc2zyA=/\")\n",
        "    elif message.text.lower() == 'поиск кадров':     \n",
        "        bot.send_message(message.chat.id, 'Введите имя и фамилию с заглавной буквы')\n",
        "    elif message.text in list(employees[1].unique()):\n",
        "        person_name = message.text\n",
        "        bot.send_message(message.chat.id, person_name + \" is \" + employees[employees[1] == person_name][5] + \" in \" + employees[employees[1] == person_name][4]+ ', email: '+ \n",
        "                         employees[employees[1] == person_name][2])\n",
        "    elif message.text.lower() == 'добавить сотрудника':\n",
        "        bot.send_message(message.chat.id, 'Введите имя и фамилию нового сотрудника, почту, проект и должность через пробел')\n",
        "    elif message.text not in list(employees[1].unique()):\n",
        "        employees = employees.append([''])\n",
        "        employees.index = range(len(employees))\n",
        "        data_list = str.split(message.text)\n",
        "        employees[0][len(employees) - 1] = employees.index[-1] + 2 \n",
        "        employees[1][len(employees) - 1] = data_list[0] + ' ' + data_list[1]\n",
        "        employees[2][len(employees) - 1] = data_list[2]\n",
        "        employees[4][len(employees) - 1] = data_list[3]\n",
        "        employees[5][len(employees) - 1] = data_list[4]\n",
        "        employees.to_csv('/content/Employees.csv', header= None, index = None)\n",
        "        bot.send_message(message.chat.id, 'Отлично, зарегестрирован новый сотрудник!')\n",
        "\n",
        "\n",
        "\n",
        "\n",
        "@bot.message_handler(content_types=['sticker'])\n",
        "def sticker_id(message):\n",
        "    print(message)\n",
        "\n",
        "bot.polling()"
      ],
      "execution_count": null,
      "outputs": []
    },
    {
      "cell_type": "code",
      "metadata": {
        "id": "hJG4Z-jJwBS_"
      },
      "source": [
        "employees"
      ],
      "execution_count": null,
      "outputs": []
    },
    {
      "cell_type": "code",
      "metadata": {
        "id": "TfQsoQz44Zuk"
      },
      "source": [
        ""
      ],
      "execution_count": null,
      "outputs": []
    }
  ]
}